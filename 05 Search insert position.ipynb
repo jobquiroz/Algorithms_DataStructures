{
 "cells": [
  {
   "cell_type": "markdown",
   "id": "vocal-numbers",
   "metadata": {},
   "source": [
    "### Search insert position\n",
    "\n",
    "Given a sorted array of distinct integers and a target value, return the index if the target is found. If not, return the index where it would be if it were inserted in order.\n",
    "\n",
    "**Example 1:**\n",
    "```\n",
    "Input: nums = [1,3,5,6], target = 5\n",
    "Output: 2\n",
    "```\n",
    "**Example 2:**\n",
    "```\n",
    "Input: nums = [1,3,5,6], target = 2\n",
    "Output: 1\n",
    "```\n",
    "**Example 3:**\n",
    "```\n",
    "Input: nums = [1,3,5,6], target = 7\n",
    "Output: 4\n",
    "```\n",
    "**Example 4:**\n",
    "```\n",
    "Input: nums = [1,3,5,6], target = 0\n",
    "Output: 0\n",
    "```\n",
    "**Example 5:**\n",
    "```\n",
    "Input: nums = [1], target = 0\n",
    "Output: 0\n",
    "```\n",
    "#### Constraints:\n",
    "```\n",
    "1 <= nums.length <= 10^4\n",
    "-10^4 <= nums[i] <= 10^4\n",
    "nums contains distinct values sorted in ascending order.\n",
    "-10^4 <= target <= 10^4\n",
    "```"
   ]
  },
  {
   "cell_type": "code",
   "execution_count": 1,
   "id": "recovered-yahoo",
   "metadata": {},
   "outputs": [],
   "source": [
    "import numpy as np\n",
    "from typing import List\n",
    "\n",
    "from utils.profiler import time_this, timed_report\n",
    "from utils.profiler import ExponentialRange\n",
    "\n",
    "import gc"
   ]
  },
  {
   "cell_type": "code",
   "execution_count": 2,
   "id": "latter-arcade",
   "metadata": {},
   "outputs": [],
   "source": [
    "@time_this(lambda *args, **kwargs: len(args[0]))\n",
    "\n",
    "def searchInsert_1(nums, target):\n",
    "    try:\n",
    "        return nums.index(target)\n",
    "    except: # Now we certainly know the number is not in the list\n",
    "        last_index = len(nums) - 1\n",
    "        for i, x in enumerate(nums):\n",
    "            if i == 0 and target < x: #first item\n",
    "                return 0\n",
    "            elif i == last_index and target > x:\n",
    "                return i + 1\n",
    "            elif target < x and target < nums[i+1]:\n",
    "                return i\n",
    "            elif target > x and target < nums[i+1]:\n",
    "                return i + 1"
   ]
  },
  {
   "cell_type": "code",
   "execution_count": 3,
   "id": "working-resistance",
   "metadata": {},
   "outputs": [],
   "source": [
    "# print(searchInsert_1([1,3,5,6],5)) # 2\n",
    "    \n",
    "# print(searchInsert_1([1,3,5,6], 2)) # 1\n",
    "\n",
    "# print(searchInsert_1([1,3,5,6], 7)) # 4\n",
    "\n",
    "# print(searchInsert_1([1,3,5,6], 0)) # 0\n",
    "\n",
    "# print(searchInsert_1([1], 0)) # 0\n",
    "\n",
    "# print(searchInsert_1([1,3],2)) # 1 "
   ]
  },
  {
   "cell_type": "markdown",
   "id": "prescription-country",
   "metadata": {},
   "source": [
    "### Great results!\n",
    "\n",
    "![img](img/Screenshot_6.png)"
   ]
  },
  {
   "cell_type": "markdown",
   "id": "historical-grave",
   "metadata": {},
   "source": [
    "### Another version (probably slower)"
   ]
  },
  {
   "cell_type": "code",
   "execution_count": 4,
   "id": "particular-prisoner",
   "metadata": {},
   "outputs": [],
   "source": [
    "@time_this(lambda *args, **kwargs: len(args[0]))\n",
    "\n",
    "def searchInsert_2(nums, target):\n",
    "    try:\n",
    "        return nums.index(target)\n",
    "    except: # Now we certainly know the number is not in the list\n",
    "        nums.append(target)\n",
    "        return sorted(nums).index(target)"
   ]
  },
  {
   "cell_type": "markdown",
   "id": "enclosed-voice",
   "metadata": {},
   "source": [
    "### Not bad!\n",
    "\n",
    "![img](img/Screenshot_7.png)"
   ]
  },
  {
   "cell_type": "markdown",
   "id": "color-spectacular",
   "metadata": {},
   "source": [
    "## Instructor's code: Binary Search\n",
    "\n",
    "Pseudocode:\n",
    "\n",
    "![img](img/pseud2.png)"
   ]
  },
  {
   "cell_type": "code",
   "execution_count": 5,
   "id": "settled-darwin",
   "metadata": {},
   "outputs": [],
   "source": [
    "@time_this(lambda *args, **kwargs: len(args[0]))\n",
    "\n",
    "def searchInsert_3(nums, target):\n",
    "    lo = 0\n",
    "    hi = len(nums) - 1\n",
    "    \n",
    "    while lo <= hi:  # We want pointers to cross\n",
    "        mid = int((hi + lo) / 2)\n",
    "        mid_val = nums[mid]\n",
    "        \n",
    "        if target == mid_val:\n",
    "            return mid\n",
    "        elif target > mid_val:\n",
    "            lo = mid + 1\n",
    "        else:\n",
    "            hi = mid - 1\n",
    "    return lo"
   ]
  },
  {
   "cell_type": "markdown",
   "id": "regional-brisbane",
   "metadata": {},
   "source": [
    "### Weird...\n",
    "\n",
    "![img](img/Screenshot_8.png)"
   ]
  },
  {
   "cell_type": "markdown",
   "id": "documentary-texas",
   "metadata": {},
   "source": [
    "## Conlan Profiler\n"
   ]
  },
  {
   "cell_type": "code",
   "execution_count": 6,
   "id": "latin-daily",
   "metadata": {},
   "outputs": [],
   "source": [
    "def ordered_numeric_list(n: int) -> List[float]:\n",
    "    return sorted(list(np.random.random(n)))"
   ]
  },
  {
   "cell_type": "code",
   "execution_count": 7,
   "id": "duplicate-match",
   "metadata": {},
   "outputs": [
    {
     "name": "stdout",
     "output_type": "stream",
     "text": [
      "searchInsert_1\n",
      "    n   = 100 values\n",
      "    t   = 0.115 ms\n",
      "    n/t = 869.5652 values per ms\n",
      "\n",
      "searchInsert_1\n",
      "    n   = 1000 values\n",
      "    t   = 1.035 ms\n",
      "    n/t = 965.9969 values per ms\n",
      "\n",
      "searchInsert_1\n",
      "    n   = 10000 values\n",
      "    t   = 20.025 ms\n",
      "    n/t = 499.3658 values per ms\n",
      "\n",
      "searchInsert_1\n",
      "    n   = 100000 values\n",
      "    t   = 174.675 ms\n",
      "    n/t = 572.4921 values per ms\n",
      "\n",
      "searchInsert_2\n",
      "    n   = 101 values\n",
      "    t   = 0.054 ms\n",
      "    n/t = 1856.6176 values per ms\n",
      "\n",
      "searchInsert_2\n",
      "    n   = 1001 values\n",
      "    t   = 0.463 ms\n",
      "    n/t = 2162.4541 values per ms\n",
      "\n",
      "searchInsert_2\n",
      "    n   = 10001 values\n",
      "    t   = 9.063 ms\n",
      "    n/t = 1103.5343 values per ms\n",
      "\n",
      "searchInsert_2\n",
      "    n   = 100001 values\n",
      "    t   = 91.17 ms\n",
      "    n/t = 1096.8654 values per ms\n",
      "\n",
      "searchInsert_3\n",
      "    n   = 100 values\n",
      "    t   = 0.022 ms\n",
      "    n/t = 4608.2949 values per ms\n",
      "\n",
      "searchInsert_3\n",
      "    n   = 1000 values\n",
      "    t   = 0.019 ms\n",
      "    n/t = 53191.4894 values per ms\n",
      "\n",
      "searchInsert_3\n",
      "    n   = 10000 values\n",
      "    t   = 0.021 ms\n",
      "    n/t = 476190.4762 values per ms\n",
      "\n",
      "searchInsert_3\n",
      "    n   = 100000 values\n",
      "    t   = 0.037 ms\n",
      "    n/t = 2732240.4373 values per ms\n",
      "\n",
      "          function  n_values  t_milliseconds  values_per_ms\n",
      "0   searchInsert_1       100           0.115   8.695652e+02\n",
      "1   searchInsert_1      1000           1.035   9.659969e+02\n",
      "2   searchInsert_1     10000          20.025   4.993658e+02\n",
      "3   searchInsert_1    100000         174.675   5.724921e+02\n",
      "4   searchInsert_2       101           0.054   1.856618e+03\n",
      "5   searchInsert_2      1001           0.463   2.162454e+03\n",
      "6   searchInsert_2     10001           9.063   1.103534e+03\n",
      "7   searchInsert_2    100001          91.170   1.096865e+03\n",
      "8   searchInsert_3       100           0.022   4.608295e+03\n",
      "9   searchInsert_3      1000           0.019   5.319149e+04\n",
      "10  searchInsert_3     10000           0.021   4.761905e+05\n",
      "11  searchInsert_3    100000           0.037   2.732240e+06\n"
     ]
    },
    {
     "data": {
      "image/png": "[encoded data removed]",
      "text/plain": [
       "<Figure size 432x288 with 1 Axes>"
      ]
     },
     "metadata": {
      "needs_background": "light"
     },
     "output_type": "display_data"
    },
    {
     "data": {
      "image/png": "[encoded data removed]",
      "text/plain": [
       "<Figure size 432x288 with 1 Axes>"
      ]
     },
     "metadata": {
      "needs_background": "light"
     },
     "output_type": "display_data"
    }
   ],
   "source": [
    "exp_range = ExponentialRange(2, 7, 1)\n",
    "values = ordered_numeric_list(exp_range.max)\n",
    "\n",
    "with timed_report():\n",
    "    for i in exp_range.iterator(5):\n",
    "        searchInsert_1(values[:i], 100)\n",
    "        gc.collect()\n",
    "\n",
    "    for i in exp_range.iterator(5):\n",
    "        searchInsert_2(values[:i], 100)\n",
    "        gc.collect()\n",
    "\n",
    "    for i in exp_range.iterator(5):\n",
    "        searchInsert_3(values[:i], 100)\n",
    "        gc.collect()"
   ]
  }
 ],
 "metadata": {
  "kernelspec": {
   "display_name": "Python 3",
   "language": "python",
   "name": "python3"
  },
  "language_info": {
   "codemirror_mode": {
    "name": "ipython",
    "version": 3
   },
   "file_extension": ".py",
   "mimetype": "text/x-python",
   "name": "python",
   "nbconvert_exporter": "python",
   "pygments_lexer": "ipython3",
   "version": "3.8.5"
  }
 },
 "nbformat": 4,
 "nbformat_minor": 5
}
