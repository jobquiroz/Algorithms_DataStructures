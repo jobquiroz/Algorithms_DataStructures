{
 "cells": [
  {
   "cell_type": "markdown",
   "id": "analyzed-support",
   "metadata": {},
   "source": [
    "## 3Sum\n",
    "\n",
    "Given an array, `nums`, of n integers, are there elements a, b, c in `nums` such that a + b + c = 0? Find all unique triplets in the array which gives the sum of zero.\n",
    "\n",
    "Notice that the solution set must not contain duplicate triplets.\n",
    "\n",
    "**Example 1:**\n",
    "\n",
    "```\n",
    "Input: nums = [-1,0,1,2,-1,-4]\n",
    "Output: [[-1,-1,2],[-1,0,1]]\n",
    "```\n",
    "\n",
    "\n",
    "**Example 2:**\n",
    "```\n",
    "Input: nums = []\n",
    "Output: []\n",
    "```\n",
    "\n",
    "\n",
    "**Example 3:**\n",
    "```\n",
    "Input: nums = [0]\n",
    "Output: []\n",
    "```\n",
    " \n",
    "\n",
    "#### Constraints:\n",
    "```\n",
    "0 <= nums.length <= 3000\n",
    "-10^5 <= nums[i] <= 10^5\n",
    "```"
   ]
  },
  {
   "cell_type": "markdown",
   "id": "unlimited-syndicate",
   "metadata": {},
   "source": [
    "### My first solution (Naive)"
   ]
  },
  {
   "cell_type": "code",
   "execution_count": 39,
   "id": "amazing-foster",
   "metadata": {},
   "outputs": [],
   "source": [
    "def threeSum(nums):\n",
    "    if len(nums) < 3:\n",
    "        return []\n",
    "    solution = set([])\n",
    "    for i,x in enumerate(nums):\n",
    "        for j,y in enumerate(nums[i+1:]):\n",
    "            for k,z in enumerate(nums[i+j+1+1:]):\n",
    "                if x + y + z == 0:\n",
    "                    solution.add(tuple(sorted([x,y,z])))\n",
    "    \n",
    "    return [list(x) for x in solution]"
   ]
  },
  {
   "cell_type": "code",
   "execution_count": 40,
   "id": "artificial-velvet",
   "metadata": {},
   "outputs": [
    {
     "data": {
      "text/plain": [
       "[[-1, 0, 1], [-1, -1, 2]]"
      ]
     },
     "execution_count": 40,
     "metadata": {},
     "output_type": "execute_result"
    }
   ],
   "source": [
    "threeSum([-1,0,1,2,-1,-4])"
   ]
  },
  {
   "cell_type": "code",
   "execution_count": 41,
   "id": "engaged-flush",
   "metadata": {},
   "outputs": [
    {
     "data": {
      "text/plain": [
       "[]"
      ]
     },
     "execution_count": 41,
     "metadata": {},
     "output_type": "execute_result"
    }
   ],
   "source": [
    "threeSum([1,2,-2,-1])"
   ]
  },
  {
   "cell_type": "markdown",
   "id": "ambient-multiple",
   "metadata": {},
   "source": [
    "\"Time limit exceeded\"\n",
    "\n",
    "It has O(n^3) time complexity."
   ]
  },
  {
   "cell_type": "markdown",
   "id": "oriental-consultation",
   "metadata": {},
   "source": [
    "### Instructor's solution\n",
    "\n",
    "Pivot pointer + double pointer within an inner loop"
   ]
  },
  {
   "cell_type": "code",
   "execution_count": 58,
   "id": "polished-going",
   "metadata": {},
   "outputs": [],
   "source": [
    "def threeSum(nums):\n",
    "    output = []\n",
    "    length = len(nums)\n",
    "    # Sorting\n",
    "    nums.sort()\n",
    "    # General loop (pivot)\n",
    "    for i in range(length):\n",
    "        right = length - 1\n",
    "        left = i + 1\n",
    "        \n",
    "        # Finding cluster or repeated elements for pivot\n",
    "        if i > 0 and nums[i] == nums[i-1]:\n",
    "            continue\n",
    "        \n",
    "        # Inner loop with two pointers\n",
    "        while left < right:\n",
    "            summ = nums[i] + nums[right] + nums[left]\n",
    "            if summ == 0:\n",
    "                output.append([nums[i], nums[right], nums[left]])\n",
    "                \n",
    "                while left < right and nums[left] == nums[left + 1]:\n",
    "                    left += 1\n",
    "                while left < right and nums[right] == nums[right - 1]:\n",
    "                    right -= 1\n",
    "                \n",
    "                left += 1\n",
    "                right -= 1    \n",
    "                \n",
    "            elif summ < 0:\n",
    "                left += 1\n",
    "            \n",
    "            else:\n",
    "                right -= 1\n",
    "    \n",
    "    return output"
   ]
  },
  {
   "cell_type": "code",
   "execution_count": 57,
   "id": "computational-highland",
   "metadata": {},
   "outputs": [
    {
     "data": {
      "text/plain": [
       "[[-1, 2, -1], [-1, 1, 0]]"
      ]
     },
     "execution_count": 57,
     "metadata": {},
     "output_type": "execute_result"
    }
   ],
   "source": [
    "threeSum([-1,0,1,2,-1,-4])"
   ]
  },
  {
   "attachments": {
    "image.png": {
     "image/png": "[encoded data removed]"
    }
   },
   "cell_type": "markdown",
   "id": "cloudy-chancellor",
   "metadata": {},
   "source": [
    "![image.png](attachment:image.png)"
   ]
  },
  {
   "cell_type": "markdown",
   "id": "eleven-mouth",
   "metadata": {},
   "source": [
    "### Modification for duplicate triples\n",
    "\n",
    "Using sets"
   ]
  },
  {
   "cell_type": "code",
   "execution_count": 59,
   "id": "subjective-cheat",
   "metadata": {},
   "outputs": [],
   "source": [
    "def threeSum(nums):\n",
    "    output = set([])\n",
    "    length = len(nums)\n",
    "    # Sorting\n",
    "    nums.sort()\n",
    "    # General loop (pivot)\n",
    "    for i in range(length):\n",
    "        right = length - 1\n",
    "        left = i + 1\n",
    "        \n",
    "        # Inner loop with two pointers\n",
    "        while left < right:\n",
    "            summ = nums[i] + nums[right] + nums[left]\n",
    "            if summ == 0:\n",
    "                output.add(tuple([nums[i], nums[left], nums[right]]))\n",
    "                left += 1\n",
    "                right -= 1    \n",
    "                \n",
    "            elif summ < 0:\n",
    "                left += 1\n",
    "            \n",
    "            else:\n",
    "                right -= 1\n",
    "    \n",
    "    return [list(x) for x in output]"
   ]
  },
  {
   "cell_type": "code",
   "execution_count": 60,
   "id": "direct-broadway",
   "metadata": {},
   "outputs": [
    {
     "data": {
      "text/plain": [
       "[[-1, 0, 1], [-1, -1, 2]]"
      ]
     },
     "execution_count": 60,
     "metadata": {},
     "output_type": "execute_result"
    }
   ],
   "source": [
    "threeSum([-1,0,1,2,-1,-4])"
   ]
  },
  {
   "attachments": {
    "image.png": {
     "image/png": "[encoded data removed]"
    }
   },
   "cell_type": "markdown",
   "id": "raised-kidney",
   "metadata": {},
   "source": [
    "![image.png](attachment:image.png)"
   ]
  },
  {
   "cell_type": "code",
   "execution_count": null,
   "id": "behind-induction",
   "metadata": {},
   "outputs": [],
   "source": []
  }
 ],
 "metadata": {
  "kernelspec": {
   "display_name": "Python 3",
   "language": "python",
   "name": "python3"
  },
  "language_info": {
   "codemirror_mode": {
    "name": "ipython",
    "version": 3
   },
   "file_extension": ".py",
   "mimetype": "text/x-python",
   "name": "python",
   "nbconvert_exporter": "python",
   "pygments_lexer": "ipython3",
   "version": "3.8.5"
  }
 },
 "nbformat": 4,
 "nbformat_minor": 5
}
