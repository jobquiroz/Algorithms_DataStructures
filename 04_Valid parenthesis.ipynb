{
 "cells": [
  {
   "cell_type": "markdown",
   "id": "curious-packaging",
   "metadata": {},
   "source": [
    "### Valid Parentheses\n",
    "\n",
    "Given a string s containing just the characters `'('`, `')'`, `'{'`, `'}'`, `'['` and `']'`, determine if the input string is valid.\n",
    "\n",
    "An input string is valid if:\n",
    "\n",
    "- Open brackets must be closed by the same type of brackets.\n",
    "- Open brackets must be closed in the correct order.\n",
    "\n",
    "**Example 1:**\n",
    "```\n",
    "Input: s = \"()\"\n",
    "Output: true\n",
    "```\n",
    "\n",
    "**Example 2:**\n",
    "```\n",
    "Input: s = \"()[]{}\"\n",
    "Output: true\n",
    "```\n",
    "\n",
    "**Example 3:**\n",
    "```\n",
    "Input: s = \"(]\"\n",
    "Output: false\n",
    "```\n",
    "\n",
    "**Example 4:**\n",
    "```\n",
    "Input: s = \"([)]\"\n",
    "Output: false\n",
    "```\n",
    "\n",
    "**Example 5:**\n",
    "```\n",
    "Input: s = \"{[]}\"\n",
    "Output: true\n",
    "```\n",
    "\n",
    "### Constraints:\n",
    "```\n",
    "1 <= s.length <= 104\n",
    "s consists of parentheses only '()[]{}'.\n",
    "```"
   ]
  },
  {
   "cell_type": "markdown",
   "id": "objective-radiation",
   "metadata": {},
   "source": [
    "### My first solution"
   ]
  },
  {
   "cell_type": "code",
   "execution_count": 6,
   "id": "passing-stroke",
   "metadata": {},
   "outputs": [
    {
     "name": "stdout",
     "output_type": "stream",
     "text": [
      "None\n"
     ]
    }
   ],
   "source": [
    "def isValid(s):\n",
    "    # Defininig pairs\n",
    "    pair = {'(': ')', '[': ']', '{': '}'}\n",
    "    \n",
    "    pass\n",
    "    #:::?\n",
    "    #for i, c in enumerate(s):\n",
    "        \n",
    "        \n",
    "st = \"([{}])\"\n",
    "print(isValid(st))"
   ]
  },
  {
   "attachments": {},
   "cell_type": "markdown",
   "id": "advance-disorder",
   "metadata": {},
   "source": [
    "### Course solution\n",
    "\n",
    "\"*Closing the most recently open parenthesis*\" (using a Stack)\n",
    "\n",
    "**Pseudocode:**\n",
    "\n",
    "![img](img/pseudo.png)\n",
    "\n",
    "**My implementation after watching pseudocode**"
   ]
  },
  {
   "cell_type": "code",
   "execution_count": 15,
   "id": "federal-fleet",
   "metadata": {},
   "outputs": [
    {
     "name": "stdout",
     "output_type": "stream",
     "text": [
      "True\n"
     ]
    }
   ],
   "source": [
    "def isValid(s: str) -> bool:\n",
    "    stack = []\n",
    "    pair = {'(': ')', '[': ']', '{': '}'}\n",
    "\n",
    "    if len(s) == 0:\n",
    "        return True\n",
    "    elif len(s) == 1:\n",
    "        return False\n",
    "    else:\n",
    "        for c in s:\n",
    "            if c in pair:\n",
    "                stack.append(c)\n",
    "            elif len(stack) == 0:\n",
    "                return False\n",
    "            elif c != pair[stack.pop()]:\n",
    "                return False\n",
    "        return stack == []\n",
    "    \n",
    "st = '()'\n",
    "print(isValid(st))"
   ]
  },
  {
   "cell_type": "markdown",
   "id": "brave-spencer",
   "metadata": {},
   "source": [
    "### Great results!\n",
    "\n",
    "![img](img/screenshot_5.png)"
   ]
  },
  {
   "cell_type": "markdown",
   "id": "falling-criminal",
   "metadata": {},
   "source": [
    "### Instructor's code 1"
   ]
  },
  {
   "cell_type": "code",
   "execution_count": 18,
   "id": "european-costs",
   "metadata": {},
   "outputs": [
    {
     "name": "stdout",
     "output_type": "stream",
     "text": [
      "True\n"
     ]
    }
   ],
   "source": [
    "def isValid(s: str) -> bool:\n",
    "    stack = []\n",
    "    for char in s:\n",
    "        if char == '(' or char == '{' or char == '[':\n",
    "            stack.append(char)\n",
    "        else:\n",
    "            if len(stack) == 0:\n",
    "                return False\n",
    "            last = stack.pop()\n",
    "            if last == '(' and char != ')':\n",
    "                return False\n",
    "            elif last == '[' and char != ']':\n",
    "                return False\n",
    "            elif last == '{' and char != '}':\n",
    "                return False\n",
    "    \n",
    "    if len(stack) > 0:\n",
    "        return False\n",
    "    else:\n",
    "        return True\n",
    "            \n",
    "    \n",
    "st = '()'\n",
    "print(isValid(st))"
   ]
  },
  {
   "cell_type": "markdown",
   "id": "funded-tobacco",
   "metadata": {},
   "source": [
    "### Code 2"
   ]
  },
  {
   "cell_type": "code",
   "execution_count": 19,
   "id": "small-tragedy",
   "metadata": {},
   "outputs": [
    {
     "name": "stdout",
     "output_type": "stream",
     "text": [
      "True\n"
     ]
    }
   ],
   "source": [
    "def isValid(s: str) -> bool:\n",
    "    stack = []\n",
    "    pairs = { '(': ')', '{': '}', '[': ']'}\n",
    "    \n",
    "    for char in s:\n",
    "        if char in pairs:\n",
    "            stack.append(char)\n",
    "        else:\n",
    "            if len(stack) == 0:\n",
    "                return False\n",
    "            last = stack.pop()\n",
    "            if pairs[last] != char:\n",
    "                return False\n",
    "    \n",
    "    if len(stack) > 0:\n",
    "        return False\n",
    "    else:\n",
    "        return True\n",
    "            \n",
    "    \n",
    "st = '()'\n",
    "print(isValid(st))"
   ]
  },
  {
   "cell_type": "markdown",
   "id": "suspected-conditioning",
   "metadata": {},
   "source": [
    "## Complexity\n",
    "\n",
    "Time Complexity: O(n)\n",
    "\n",
    "Space complexity: O(n)"
   ]
  },
  {
   "cell_type": "code",
   "execution_count": 10,
   "id": "stainless-bobby",
   "metadata": {},
   "outputs": [
    {
     "name": "stdout",
     "output_type": "stream",
     "text": [
      "True\n",
      "True\n",
      "False\n",
      "False\n",
      "True\n"
     ]
    }
   ],
   "source": [
    "s = \"()\"\n",
    "print(isValid(s))\n",
    "s = \"()[]{}\"\n",
    "print(isValid(s))\n",
    "s = \"(]\"\n",
    "print(isValid(s))\n",
    "s = \"([)]\"\n",
    "print(isValid(s))\n",
    "s = \"{[]}\"\n",
    "print(isValid(s))"
   ]
  },
  {
   "cell_type": "code",
   "execution_count": null,
   "id": "alpha-workshop",
   "metadata": {},
   "outputs": [],
   "source": []
  }
 ],
 "metadata": {
  "kernelspec": {
   "display_name": "Python 3",
   "language": "python",
   "name": "python3"
  },
  "language_info": {
   "codemirror_mode": {
    "name": "ipython",
    "version": 3
   },
   "file_extension": ".py",
   "mimetype": "text/x-python",
   "name": "python",
   "nbconvert_exporter": "python",
   "pygments_lexer": "ipython3",
   "version": "3.8.5"
  }
 },
 "nbformat": 4,
 "nbformat_minor": 5
}
